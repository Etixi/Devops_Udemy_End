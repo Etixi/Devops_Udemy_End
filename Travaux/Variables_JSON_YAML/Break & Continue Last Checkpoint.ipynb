{
 "cells": [
  {
   "cell_type": "code",
   "execution_count": 3,
   "id": "3b5f31f8",
   "metadata": {},
   "outputs": [
    {
     "name": "stdout",
     "output_type": "stream",
     "text": [
      "D\n",
      "e\n",
      "v\n",
      "O\n",
      "Found my data.\n",
      "Out of loop\n"
     ]
    }
   ],
   "source": [
    "# Break Statement\n",
    "\n",
    "for i in \"DevOps\":\n",
    "    print(i)\n",
    "    if i == \"O\":\n",
    "        print(\"Found my data.\")\n",
    "        break\n",
    "print(\"Out of loop\")"
   ]
  },
  {
   "cell_type": "code",
   "execution_count": 5,
   "id": "2b0182e9",
   "metadata": {},
   "outputs": [
    {
     "name": "stdout",
     "output_type": "stream",
     "text": [
      "D\n",
      "Value of i is D\n",
      "e\n",
      "Value of i is e\n",
      "v\n",
      "Value of i is v\n",
      "O\n",
      "Found my data.\n",
      "p\n",
      "Value of i is p\n",
      "s\n",
      "Value of i is s\n",
      "Out of loop\n"
     ]
    }
   ],
   "source": [
    "# Continue Statement\n",
    "\n",
    "for i in \"DevOps\":\n",
    "    print(i)\n",
    "    if i == \"O\":\n",
    "        print(\"Found my data.\")\n",
    "        continue\n",
    "    print(f\"Value of i is {i}\")\n",
    "    \n",
    "print(\"Out of loop\")"
   ]
  }
 ],
 "metadata": {
  "kernelspec": {
   "display_name": "Python 3 (ipykernel)",
   "language": "python",
   "name": "python3"
  },
  "language_info": {
   "codemirror_mode": {
    "name": "ipython",
    "version": 3
   },
   "file_extension": ".py",
   "mimetype": "text/x-python",
   "name": "python",
   "nbconvert_exporter": "python",
   "pygments_lexer": "ipython3",
   "version": "3.11.3"
  }
 },
 "nbformat": 4,
 "nbformat_minor": 5
}
