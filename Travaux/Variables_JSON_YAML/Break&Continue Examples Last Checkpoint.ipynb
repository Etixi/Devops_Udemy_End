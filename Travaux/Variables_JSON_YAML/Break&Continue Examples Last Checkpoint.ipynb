{
 "cells": [
  {
   "cell_type": "code",
   "execution_count": 14,
   "id": "201dec86",
   "metadata": {},
   "outputs": [
    {
     "name": "stdout",
     "output_type": "stream",
     "text": [
      "['Pfizer', 'Astrazeneca', 'Covaxin', 'Moderna', 'Sputnik v', 'CoronaVac']\n",
      "============================================================\n",
      "Astrazeneca\n",
      "============================================================\n",
      "*******TESTING VACCINE Pfizer\n",
      "XXXXXXXXXXXXXXXXXXXXXXXXXXXXXXXXXXXXXXXXX\n",
      "Test Failed\n",
      "XXXXXXXXXXXXXXXXXXXXXXXXXXXXXXXXXXXXXXXXX\n",
      "\n",
      "*******TESTING VACCINE Astrazeneca\n",
      "####################################\n",
      "Astrazeneca Vaccine, Test SUCCESSFUL\n",
      "####################################\n",
      "\n",
      "*******TESTING VACCINE Covaxin\n",
      "XXXXXXXXXXXXXXXXXXXXXXXXXXXXXXXXXXXXXXXXX\n",
      "Test Failed\n",
      "XXXXXXXXXXXXXXXXXXXXXXXXXXXXXXXXXXXXXXXXX\n",
      "\n",
      "*******TESTING VACCINE Moderna\n",
      "XXXXXXXXXXXXXXXXXXXXXXXXXXXXXXXXXXXXXXXXX\n",
      "Test Failed\n",
      "XXXXXXXXXXXXXXXXXXXXXXXXXXXXXXXXXXXXXXXXX\n",
      "\n",
      "*******TESTING VACCINE Sputnik v\n",
      "XXXXXXXXXXXXXXXXXXXXXXXXXXXXXXXXXXXXXXXXX\n",
      "Test Failed\n",
      "XXXXXXXXXXXXXXXXXXXXXXXXXXXXXXXXXXXXXXXXX\n",
      "\n",
      "*******TESTING VACCINE CoronaVac\n",
      "XXXXXXXXXXXXXXXXXXXXXXXXXXXXXXXXXXXXXXXXX\n",
      "Test Failed\n",
      "XXXXXXXXXXXXXXXXXXXXXXXXXXXXXXXXXXXXXXXXX\n",
      "\n"
     ]
    }
   ],
   "source": [
    "import random\n",
    "\n",
    "VACCINES = [\"Moderna\", \"Pfizer\", \"Sputnik v\", \"Covaxin\", \"Astrazeneca\", \"CoronaVac\"]\n",
    "\n",
    "random.shuffle(VACCINES)\n",
    "print(VACCINES)\n",
    "print(\"====\"*15)\n",
    "\n",
    "\n",
    "LUCKY = random.choice(VACCINES)\n",
    "print(LUCKY)\n",
    "print(\"====\"*15)\n",
    "\n",
    "for vac in VACCINES:\n",
    "    print(f\"*******TESTING VACCINE {vac}\")\n",
    "    if vac == LUCKY:\n",
    "        print(\"####################################\")\n",
    "        print(f\"{LUCKY} Vaccine, Test SUCCESSFUL\")\n",
    "        print(\"####################################\")\n",
    "        print()\n",
    "        continue\n",
    "    print(\"XXXXXXXXXXXXXXXXXXXXXXXXXXXXXXXXXXXXXXXXX\")\n",
    "    print(\"Test Failed\")\n",
    "    print(\"XXXXXXXXXXXXXXXXXXXXXXXXXXXXXXXXXXXXXXXXX\")\n",
    "    print()"
   ]
  },
  {
   "cell_type": "code",
   "execution_count": null,
   "id": "c1cf5b5c",
   "metadata": {},
   "outputs": [],
   "source": []
  }
 ],
 "metadata": {
  "kernelspec": {
   "display_name": "Python 3 (ipykernel)",
   "language": "python",
   "name": "python3"
  },
  "language_info": {
   "codemirror_mode": {
    "name": "ipython",
    "version": 3
   },
   "file_extension": ".py",
   "mimetype": "text/x-python",
   "name": "python",
   "nbconvert_exporter": "python",
   "pygments_lexer": "ipython3",
   "version": "3.11.3"
  }
 },
 "nbformat": 4,
 "nbformat_minor": 5
}
