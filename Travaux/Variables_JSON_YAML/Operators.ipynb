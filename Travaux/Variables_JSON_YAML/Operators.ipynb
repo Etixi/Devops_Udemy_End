{
 "cells": [
  {
   "cell_type": "code",
   "execution_count": 2,
   "id": "ca4cb042",
   "metadata": {},
   "outputs": [
    {
     "name": "stdout",
     "output_type": "stream",
     "text": [
      "7\n",
      "***************\n",
      "-3\n",
      "***************\n",
      "10\n",
      "***************\n",
      "2.5\n",
      "***************\n",
      "25\n"
     ]
    }
   ],
   "source": [
    "# Arithmetic Operators\n",
    "\n",
    "x = 2\n",
    "y = 5\n",
    "\n",
    "total = x + y\n",
    "print(total)\n",
    "print(\"***\"*5)\n",
    "\n",
    "total = x - y\n",
    "print(total)\n",
    "print(\"***\"*5)\n",
    "\n",
    "total = x*y\n",
    "print(total)\n",
    "print(\"***\"*5)\n",
    "\n",
    "total = y/x\n",
    "print(total)\n",
    "print(\"***\"*5)\n",
    "\n",
    "total = y**x\n",
    "print(total)"
   ]
  },
  {
   "cell_type": "code",
   "execution_count": 3,
   "id": "f17ab173",
   "metadata": {},
   "outputs": [
    {
     "name": "stdout",
     "output_type": "stream",
     "text": [
      "True\n",
      "***************\n",
      "False\n",
      "True\n",
      "***************\n",
      "False\n",
      "***************\n",
      "True\n",
      "***************\n",
      "False\n",
      "True\n",
      "***************\n",
      "True\n"
     ]
    }
   ],
   "source": [
    "# Comparison Operators\n",
    "\n",
    "a = 30\n",
    "b = 60\n",
    "\n",
    "out = (a < b)\n",
    "print(out)\n",
    "print(\"***\"*5)\n",
    "\n",
    "\n",
    "print(a > b)\n",
    "print(out)\n",
    "print(\"***\"*5)\n",
    "\n",
    "\n",
    "out = (a == b)\n",
    "print(out)\n",
    "print(\"***\"*5)\n",
    "\n",
    "\n",
    "out = (a != b)\n",
    "print(out)\n",
    "print(\"***\"*5)\n",
    "\n",
    "\n",
    "print(a >= b)\n",
    "print(out)\n",
    "print(\"***\"*5)\n",
    "\n",
    "\n",
    "out = (a <= b)\n",
    "print(out)"
   ]
  },
  {
   "cell_type": "code",
   "execution_count": 6,
   "id": "b8ea63b8",
   "metadata": {},
   "outputs": [
    {
     "name": "stdout",
     "output_type": "stream",
     "text": [
      "0\n",
      "-1\n"
     ]
    }
   ],
   "source": [
    "# Assiggment Operators\n",
    "\n",
    "c = 0\n",
    "d = 1\n",
    "\n",
    "\n",
    "#c += d # c = c + d\n",
    "print(c)\n",
    "\n",
    "c  -= d # c = c - d\n",
    "print(c)\n"
   ]
  },
  {
   "cell_type": "code",
   "execution_count": 7,
   "id": "a9154934",
   "metadata": {},
   "outputs": [
    {
     "name": "stdout",
     "output_type": "stream",
     "text": [
      "True\n",
      "True\n",
      "False\n",
      "True\n",
      "True\n",
      "False\n"
     ]
    }
   ],
   "source": [
    "# Logical Operators\n",
    "\n",
    "# and\n",
    "# or\n",
    "\n",
    "a = 40\n",
    "b = 60\n",
    "\n",
    "x = 2\n",
    "y = 3\n",
    "\n",
    "out = (a < b) or (x > y)\n",
    "print(out)\n",
    "\n",
    "out = (a > b) or (x < y)\n",
    "print(out)\n",
    "\n",
    "out = (a < b) and (x > y)\n",
    "print(out)\n",
    "\n",
    "out = (a < b) and (x < y)\n",
    "print(out)\n",
    "\n",
    "out = (a < b) and (x < y)\n",
    "print(out)\n",
    "\n",
    "out = not(x < y)\n",
    "print(out)"
   ]
  },
  {
   "cell_type": "code",
   "execution_count": 10,
   "id": "c8021f23",
   "metadata": {},
   "outputs": [
    {
     "name": "stdout",
     "output_type": "stream",
     "text": [
      "True\n",
      "False\n",
      "True\n"
     ]
    }
   ],
   "source": [
    "# Membership Operator\n",
    "\n",
    "first_tuple = (\"IOT\", \"DevOps\", 47, 89, 1.5)\n",
    "ans = \"DevOps\" in first_tuple\n",
    "print(ans)\n",
    "\n",
    "ans = \"DevOps\" not in first_tuple\n",
    "print(ans)\n",
    "\n",
    "ans = 67 not in first_tuple\n",
    "print(ans)"
   ]
  },
  {
   "cell_type": "code",
   "execution_count": 13,
   "id": "391ff384",
   "metadata": {},
   "outputs": [
    {
     "name": "stdout",
     "output_type": "stream",
     "text": [
      "False\n",
      "True\n"
     ]
    }
   ],
   "source": [
    "# Identity Operators\n",
    "a = 12\n",
    "b = 15\n",
    "\n",
    "result = a is b\n",
    "print(result)\n",
    "\n",
    "result = a is not b\n",
    "print(result)"
   ]
  },
  {
   "cell_type": "code",
   "execution_count": null,
   "id": "868f77bf",
   "metadata": {},
   "outputs": [],
   "source": []
  }
 ],
 "metadata": {
  "kernelspec": {
   "display_name": "Python 3 (ipykernel)",
   "language": "python",
   "name": "python3"
  },
  "language_info": {
   "codemirror_mode": {
    "name": "ipython",
    "version": 3
   },
   "file_extension": ".py",
   "mimetype": "text/x-python",
   "name": "python",
   "nbconvert_exporter": "python",
   "pygments_lexer": "ipython3",
   "version": "3.11.3"
  }
 },
 "nbformat": 4,
 "nbformat_minor": 5
}
